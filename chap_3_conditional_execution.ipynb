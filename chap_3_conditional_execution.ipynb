{
  "nbformat": 4,
  "nbformat_minor": 0,
  "metadata": {
    "colab": {
      "name": "chap_3_conditional_execution.ipynb",
      "provenance": [],
      "authorship_tag": "ABX9TyNwVTIMSTkdHEWRjLdW/drL",
      "include_colab_link": true
    },
    "kernelspec": {
      "name": "python3",
      "display_name": "Python 3"
    },
    "language_info": {
      "name": "python"
    }
  },
  "cells": [
    {
      "cell_type": "markdown",
      "metadata": {
        "id": "view-in-github",
        "colab_type": "text"
      },
      "source": [
        "<a href=\"https://colab.research.google.com/github/lanashin/PY4e_coursera/blob/main/chap_3_conditional_execution.ipynb\" target=\"_parent\"><img src=\"https://colab.research.google.com/assets/colab-badge.svg\" alt=\"Open In Colab\"/></a>"
      ]
    },
    {
      "cell_type": "markdown",
      "source": [
        "Comparison Operators\n",
        "*Comparison operators look at variables but do not change the variables\n",
        "  <=  Less than or Equal to\n",
        "  >= greater than or equal to\n",
        "  == equal to\n",
        "  != not equal\n"
      ],
      "metadata": {
        "id": "AhBDGtXlGi1b"
      }
    },
    {
      "cell_type": "code",
      "execution_count": null,
      "metadata": {
        "id": "9v7EfsXVGJmL"
      },
      "outputs": [],
      "source": [
        "#Nested decisions\n",
        "x = 42\n",
        "if x > 1:\n",
        "  print(\"More than one\")\n",
        "  if x < 100:\n",
        "    print(\"Less than 100\")\n",
        "print(\"All done\")"
      ]
    },
    {
      "cell_type": "code",
      "source": [
        "#multi-way\n",
        "#if its x=20 it will print both statements - large and all done\n",
        "x=20\n",
        "if x < 2:\n",
        "  print(\"Small\")\n",
        "elif x < 10:\n",
        "  print(\"Medium\")\n",
        "else:\n",
        "  print(\"Large\")\n",
        "print(\"All done\")"
      ],
      "metadata": {
        "colab": {
          "base_uri": "https://localhost:8080/"
        },
        "id": "szC6Ha6fIUCE",
        "outputId": "7b62e1a2-211c-4e03-8f33-74f01a931b17"
      },
      "execution_count": null,
      "outputs": [
        {
          "output_type": "stream",
          "name": "stdout",
          "text": [
            "Large\n",
            "All done\n"
          ]
        }
      ]
    },
    {
      "cell_type": "code",
      "source": [
        "#no else\n",
        "#if its x=20 it will just print all done\n",
        "x=20\n",
        "if x < 2:\n",
        "  print(\"Small\")\n",
        "elif x < 10:\n",
        "  print(\"Medium\")\n",
        "print(\"All done\")"
      ],
      "metadata": {
        "colab": {
          "base_uri": "https://localhost:8080/"
        },
        "id": "6uIXx3rmJR7U",
        "outputId": "a403debe-7972-4e81-d120-9bf027989793"
      },
      "execution_count": null,
      "outputs": [
        {
          "output_type": "stream",
          "name": "stdout",
          "text": [
            "All done\n"
          ]
        }
      ]
    },
    {
      "cell_type": "markdown",
      "source": [
        "## Try/except Structure\n",
        "You surround a dangerous section with try and except\n",
        "\n",
        "if the code in the **try works** - the **except** is skipped\n",
        "\n",
        "if the code in the **try fails** - it jumps to the **except** section"
      ],
      "metadata": {
        "id": "ERxnpKnnJ4U6"
      }
    },
    {
      "cell_type": "code",
      "source": [
        "astr = \"Hello Bob\"\n",
        "istr = int(astr)\n",
        "#the program stops here\n",
        "print('First', istr)\n",
        "astr = '123'\n",
        "istr = int(astr)\n",
        "print(\"Second\", istr)"
      ],
      "metadata": {
        "colab": {
          "base_uri": "https://localhost:8080/",
          "height": 236
        },
        "id": "i2K4hePUJsWP",
        "outputId": "cb83a799-139c-4ac4-9eb8-9c4ead426209"
      },
      "execution_count": null,
      "outputs": [
        {
          "output_type": "error",
          "ename": "ValueError",
          "evalue": "ignored",
          "traceback": [
            "\u001b[0;31m---------------------------------------------------------------------------\u001b[0m",
            "\u001b[0;31mValueError\u001b[0m                                Traceback (most recent call last)",
            "\u001b[0;32m<ipython-input-9-b6011b8c126c>\u001b[0m in \u001b[0;36m<module>\u001b[0;34m()\u001b[0m\n\u001b[1;32m      1\u001b[0m \u001b[0mastr\u001b[0m \u001b[0;34m=\u001b[0m \u001b[0;34m\"Hello Bob\"\u001b[0m\u001b[0;34m\u001b[0m\u001b[0;34m\u001b[0m\u001b[0m\n\u001b[0;32m----> 2\u001b[0;31m \u001b[0mistr\u001b[0m \u001b[0;34m=\u001b[0m \u001b[0mint\u001b[0m\u001b[0;34m(\u001b[0m\u001b[0mastr\u001b[0m\u001b[0;34m)\u001b[0m\u001b[0;34m\u001b[0m\u001b[0;34m\u001b[0m\u001b[0m\n\u001b[0m\u001b[1;32m      3\u001b[0m \u001b[0mprint\u001b[0m\u001b[0;34m(\u001b[0m\u001b[0;34m'First'\u001b[0m\u001b[0;34m,\u001b[0m \u001b[0mistr\u001b[0m\u001b[0;34m)\u001b[0m\u001b[0;34m\u001b[0m\u001b[0;34m\u001b[0m\u001b[0m\n\u001b[1;32m      4\u001b[0m \u001b[0mastr\u001b[0m \u001b[0;34m=\u001b[0m \u001b[0;34m'123'\u001b[0m\u001b[0;34m\u001b[0m\u001b[0;34m\u001b[0m\u001b[0m\n\u001b[1;32m      5\u001b[0m \u001b[0mistr\u001b[0m \u001b[0;34m=\u001b[0m \u001b[0mint\u001b[0m\u001b[0;34m(\u001b[0m\u001b[0mastr\u001b[0m\u001b[0;34m)\u001b[0m\u001b[0;34m\u001b[0m\u001b[0;34m\u001b[0m\u001b[0m\n",
            "\u001b[0;31mValueError\u001b[0m: invalid literal for int() with base 10: 'Hello Bob'"
          ]
        }
      ]
    },
    {
      "cell_type": "code",
      "source": [
        "#how to fix it\n",
        "#when the first conversation fails - it just drops into the except: clause and the program continues.\n",
        "astr = \"Hello Bob\"\n",
        "try:\n",
        "    istr = int(astr)\n",
        "except:\n",
        "    istr = -1\n",
        "print(\"First\", istr)\n",
        "\n",
        "#When the second conversion succeeds - it just skips the except: clause and the program continues.\n",
        "astr = '123'\n",
        "try: \n",
        "    istr = int(astr)\n",
        "except:\n",
        "     istr = -1\n",
        "print(\"Second\", istr)"
      ],
      "metadata": {
        "colab": {
          "base_uri": "https://localhost:8080/"
        },
        "id": "w3nfoFrELrOP",
        "outputId": "fa84c2d9-5ca2-4cc5-a954-d4b9a1838ba3"
      },
      "execution_count": 3,
      "outputs": [
        {
          "output_type": "stream",
          "name": "stdout",
          "text": [
            "First -1\n",
            "Second 123\n"
          ]
        }
      ]
    },
    {
      "cell_type": "code",
      "source": [
        "rawstr =input(\"Enter a number:\")\n",
        "try:\n",
        "  ival =int(rawstr)\n",
        "except:\n",
        "  ival = -1\n",
        "\n",
        "if ival >0:\n",
        "  print('Nice work')\n",
        "else:\n",
        "  print(\"Not a number\")"
      ],
      "metadata": {
        "id": "ygthiTcftbvP",
        "colab": {
          "base_uri": "https://localhost:8080/"
        },
        "outputId": "f26202ba-b517-438a-dbea-6ea22e46bb6b"
      },
      "execution_count": 4,
      "outputs": [
        {
          "output_type": "stream",
          "name": "stdout",
          "text": [
            "Enter a number:j\n",
            "Not a number\n"
          ]
        }
      ]
    },
    {
      "cell_type": "code",
      "source": [
        "#exercise \n",
        "#Rewrite your pay computation to give the employee 1.5 times the hourly rate for hours worked above 40 hours.\n",
        "#Enter Hours: 45\n",
        "#Enter Rate: 10\n",
        "#Pay: 475.0\n",
        "\n",
        "hours = input(\"How many hours did you work this week? \")\n",
        "over_pay = (int(hours) - 40) * 1.5\n",
        "pay = (over_pay + 40) * 10\n",
        "print(pay)\n"
      ],
      "metadata": {
        "colab": {
          "base_uri": "https://localhost:8080/"
        },
        "id": "Wegmws2bGBsP",
        "outputId": "93541240-4e31-4ba6-907b-9d8f3a76265f"
      },
      "execution_count": 15,
      "outputs": [
        {
          "output_type": "stream",
          "name": "stdout",
          "text": [
            "How many hours did you work this week? 45\n",
            "475.0\n"
          ]
        }
      ]
    },
    {
      "cell_type": "code",
      "source": [
        "#Exercise2\n",
        "#Rewrite your pay program using try and except so that your program handles non-numeric input gracefully.\n",
        "#Enter Hours: 20\n",
        "#Enter Rate: nine\n",
        "\n",
        "hours = input(\"How many hours did you work this week? \")\n",
        "try:\n",
        "  rate = int(hours)* 10\n",
        "except:\n",
        "  rate = -1\n",
        "\n",
        "if rate >0:\n",
        "  print(\"This week your payment will be\", rate)\n",
        "else:\n",
        "  print(\"Please type a numeric input.\")"
      ],
      "metadata": {
        "colab": {
          "base_uri": "https://localhost:8080/"
        },
        "id": "anr9v6crLSV5",
        "outputId": "6fd81148-e9fc-4d81-e73b-7383f0ab2c14"
      },
      "execution_count": 27,
      "outputs": [
        {
          "output_type": "stream",
          "name": "stdout",
          "text": [
            "How many hours did you work this week? h\n",
            "Please type a numeric input.\n"
          ]
        }
      ]
    }
  ]
}