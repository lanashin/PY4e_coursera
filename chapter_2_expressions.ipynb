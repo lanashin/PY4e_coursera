{
  "nbformat": 4,
  "nbformat_minor": 0,
  "metadata": {
    "colab": {
      "name": "chapter_2_expressions.ipynb",
      "provenance": [],
      "authorship_tag": "ABX9TyM9FIFvdfEeJinUEzp5872V",
      "include_colab_link": true
    },
    "kernelspec": {
      "name": "python3",
      "display_name": "Python 3"
    },
    "language_info": {
      "name": "python"
    }
  },
  "cells": [
    {
      "cell_type": "markdown",
      "metadata": {
        "id": "view-in-github",
        "colab_type": "text"
      },
      "source": [
        "<a href=\"https://colab.research.google.com/github/lanashin/PY4e_coursera/blob/main/chapter_2_expressions.ipynb\" target=\"_parent\"><img src=\"https://colab.research.google.com/assets/colab-badge.svg\" alt=\"Open In Colab\"/></a>"
      ]
    },
    {
      "cell_type": "markdown",
      "source": [
        "## Constants\n",
        "**Fixed values** such as numbers, letters, and strings, are called \"constants\" because their value does not change. "
      ],
      "metadata": {
        "id": "F_yP7_t0qbAr"
      }
    },
    {
      "cell_type": "markdown",
      "source": [
        "## Variables\n",
        "A **variable** is a named place in the memory where a programmer can store data and later retrieve the data using the variable \"name\".\n",
        "* Must start with a letter or underscore_\n",
        "* Assingment statement: x = 2\n",
        "  Assingment with expression: x = x+2\n",
        "  print statement: print(x)\n",
        "\n",
        "* A variable is a memory location used to store a value. The value stored in a variable can be updated by replacing the old value (0.6) with a new value (0.936)."
      ],
      "metadata": {
        "id": "loVlTEbE7MJg"
      }
    },
    {
      "cell_type": "markdown",
      "source": [
        "## Expressions\n",
        "Classic math operation: **raise to a power** - looks diffrent than in math. (\"**\")"
      ],
      "metadata": {
        "id": "hAoHjp1Q9eSd"
      }
    },
    {
      "cell_type": "code",
      "source": [
        "#Numeric experession, example:\n",
        "jj= 23\n",
        "kk = jj % 5\n",
        "print(kk)\n",
        "\n",
        "print(4**3)"
      ],
      "metadata": {
        "colab": {
          "base_uri": "https://localhost:8080/"
        },
        "id": "pjtCk-y9-L3W",
        "outputId": "f50e309f-e7c3-421c-dad3-96b6b5be99cd"
      },
      "execution_count": 2,
      "outputs": [
        {
          "output_type": "stream",
          "name": "stdout",
          "text": [
            "3\n",
            "64\n"
          ]
        }
      ]
    },
    {
      "cell_type": "code",
      "source": [
        "#adding string type correctly\n",
        "eee=\"hello \" + \"there\"\n",
        "print(eee)\n",
        "\n",
        "#We can ask Python what type something is by using the **type()**\n",
        "#type(eee)\n",
        "#type(\"Hello\")\n",
        "type(1)"
      ],
      "metadata": {
        "colab": {
          "base_uri": "https://localhost:8080/"
        },
        "id": "1MhCOyCw_YJN",
        "outputId": "ceb70686-f9f6-4afd-c3e2-8279bf8f4020"
      },
      "execution_count": 8,
      "outputs": [
        {
          "output_type": "stream",
          "name": "stdout",
          "text": [
            "hello there\n"
          ]
        },
        {
          "output_type": "execute_result",
          "data": {
            "text/plain": [
              "int"
            ]
          },
          "metadata": {},
          "execution_count": 8
        }
      ]
    },
    {
      "cell_type": "code",
      "execution_count": 13,
      "metadata": {
        "colab": {
          "base_uri": "https://localhost:8080/"
        },
        "id": "Ws89e-i3jAAp",
        "outputId": "36851a72-5371-463c-92c0-98ddb2e2a99b"
      },
      "outputs": [
        {
          "output_type": "stream",
          "name": "stdout",
          "text": [
            "199.0\n",
            "42.0\n"
          ]
        },
        {
          "output_type": "execute_result",
          "data": {
            "text/plain": [
              "float"
            ]
          },
          "metadata": {},
          "execution_count": 13
        }
      ],
      "source": [
        "#When you put an integer and floating number in an expression, the integer is implicity converted to a float\n",
        "#You can control this with built-in functions int() and float()\n",
        "print(float(99)+ 100)\n",
        "i = 42\n",
        "type(i)\n",
        "f = float(i)\n",
        "print(f)\n",
        "type(f)"
      ]
    },
    {
      "cell_type": "code",
      "source": [
        "#String conversions \n",
        "sval = \"123\"\n",
        "type(sval)\n",
        "ival = int(sval)\n",
        "type(ival)\n",
        "print(ival + 1)\n",
        "#if it doesnt have numeric number to convert string to int will give an error"
      ],
      "metadata": {
        "colab": {
          "base_uri": "https://localhost:8080/"
        },
        "id": "qcQWUED5DeEn",
        "outputId": "296e8472-6cf2-47a4-a90e-0918135cd379"
      },
      "execution_count": 16,
      "outputs": [
        {
          "output_type": "stream",
          "name": "stdout",
          "text": [
            "124\n"
          ]
        }
      ]
    },
    {
      "cell_type": "code",
      "source": [
        "#user input\n",
        "name = input(\"What is your name? \")\n",
        "print(\"Welcome\", name)"
      ],
      "metadata": {
        "colab": {
          "base_uri": "https://localhost:8080/"
        },
        "id": "AhNFo1MgER8P",
        "outputId": "0bcf7f5e-425b-436f-cbc0-b952c4cccc59"
      },
      "execution_count": 19,
      "outputs": [
        {
          "output_type": "stream",
          "name": "stdout",
          "text": [
            "What is your name?Ln\n",
            "Welcome Ln\n"
          ]
        }
      ]
    },
    {
      "cell_type": "code",
      "source": [
        "#if we want to read a number from the user we must convert it from a string to number using a type conversion function\n",
        "inp = input(\"Europe floor? \")\n",
        "usf = int(inp) + 1\n",
        "print('US floor', usf)"
      ],
      "metadata": {
        "id": "7OBS0kSwFEUO"
      },
      "execution_count": null,
      "outputs": []
    }
  ]
}