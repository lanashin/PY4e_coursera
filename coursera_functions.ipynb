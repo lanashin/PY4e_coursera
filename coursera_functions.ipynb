{
  "nbformat": 4,
  "nbformat_minor": 0,
  "metadata": {
    "colab": {
      "name": "coursera_functions.ipynb",
      "provenance": [],
      "authorship_tag": "ABX9TyPRGKNvfmQl5tL2C7wIPNJg",
      "include_colab_link": true
    },
    "kernelspec": {
      "name": "python3",
      "display_name": "Python 3"
    },
    "language_info": {
      "name": "python"
    }
  },
  "cells": [
    {
      "cell_type": "markdown",
      "metadata": {
        "id": "view-in-github",
        "colab_type": "text"
      },
      "source": [
        "<a href=\"https://colab.research.google.com/github/lanashin/Python_for_everyone_coursera/blob/main/coursera_functions.ipynb\" target=\"_parent\"><img src=\"https://colab.research.google.com/assets/colab-badge.svg\" alt=\"Open In Colab\"/></a>"
      ]
    },
    {
      "cell_type": "markdown",
      "metadata": {
        "id": "Q9GZ7NM6_ycG"
      },
      "source": [
        "A function is some stored code that we use. A function takes some input and produces an output."
      ]
    },
    {
      "cell_type": "code",
      "metadata": {
        "colab": {
          "base_uri": "https://localhost:8080/"
        },
        "id": "o01GoIj89jg2",
        "outputId": "77d61f86-3d8d-4c3a-9606-20c737cc287c"
      },
      "source": [
        "#function is like variable its just holds code\n",
        "def thing():\n",
        "  print('Hello')\n",
        "  print('Fun') #nothing comes out form this\n",
        "thing() #call the function, thing () is a function prints hello and fun\n",
        "print('Zip') #prints Zip\n",
        "thing()#prints again hello and fun"
      ],
      "execution_count": 5,
      "outputs": [
        {
          "output_type": "stream",
          "name": "stdout",
          "text": [
            "Hello\n",
            "Fun\n",
            "Zip\n",
            "Hello\n",
            "Fun\n"
          ]
        }
      ]
    },
    {
      "cell_type": "code",
      "metadata": {
        "colab": {
          "base_uri": "https://localhost:8080/"
        },
        "id": "blAWnBy6-qz8",
        "outputId": "98952af8-73f3-4711-e76f-bb767831a385"
      },
      "source": [
        "#max function finds the largest letter\n",
        "big= max('Hello world')\n",
        "print(big)\n",
        "#smallest letter function \n",
        "tiny= min('Hello world')\n",
        "print(tiny)\n",
        "#if there is space it will show space, if not it will show upper case next"
      ],
      "execution_count": 12,
      "outputs": [
        {
          "output_type": "stream",
          "name": "stdout",
          "text": [
            "w\n",
            " \n"
          ]
        }
      ]
    },
    {
      "cell_type": "code",
      "metadata": {
        "colab": {
          "base_uri": "https://localhost:8080/"
        },
        "id": "T5lXjM2B_o1x",
        "outputId": "2f301f11-78b4-484e-bb7c-5e3e4dac1f03"
      },
      "source": [
        "#When you put an integer and floating point in an expression, the integer is implicity cinverted to a float.\n",
        "#you can control it with the built-in functions int() and float()\n",
        "i=42\n",
        "type(i) #prints int\n",
        "f=float(i) #replace in the function from int to float\n",
        "print(f) #prints 42.0\n",
        "type(f)#prints float\n",
        "print(1+2*float(3)/4-5) #prints -2.5"
      ],
      "execution_count": 20,
      "outputs": [
        {
          "output_type": "stream",
          "name": "stdout",
          "text": [
            "42.0\n",
            "-2.5\n"
          ]
        }
      ]
    },
    {
      "cell_type": "code",
      "metadata": {
        "colab": {
          "base_uri": "https://localhost:8080/"
        },
        "id": "8tgSU86BBvcL",
        "outputId": "28317c42-eb68-4154-b68f-8d44ab98152d"
      },
      "source": [
        "#you can also use int()and float() to convert between strings and int\n",
        "#you will get an error if the string doesnt contain numeric characteristics \n",
        "#to fix it:\n",
        "sval = '123'#python reads it as string its why it wont add numbers\n",
        "ival = int(sval)\n",
        "type(ival) #prints int\n",
        "print (ival+1) #prints 124\n",
        "nsv = 'hello mars'\n",
        "#niv=int(nsv)#gives an error because it doesnt have the numbers "
      ],
      "execution_count": 26,
      "outputs": [
        {
          "output_type": "stream",
          "name": "stdout",
          "text": [
            "124\n"
          ]
        }
      ]
    },
    {
      "cell_type": "code",
      "metadata": {
        "id": "iK2kMmdWEpwU"
      },
      "source": [
        "#we indent the body of the function \n",
        "#this defines the function but DOES NOT  execute the body of the function \n",
        "#envoke = runs the output\n"
      ],
      "execution_count": null,
      "outputs": []
    },
    {
      "cell_type": "code",
      "metadata": {
        "colab": {
          "base_uri": "https://localhost:8080/"
        },
        "id": "f9qzUIXwF4F4",
        "outputId": "8c64fc58-1cca-4f41-d3f3-9ed0457dc71e"
      },
      "source": [
        "#Parameters :\n",
        "#A parameter is a variable which we use in the function definition. \n",
        "#It is a \"handle\" that allows the code in the function to access the arguments \n",
        "#for a particular function invocation.\n",
        "def greet(lang):\n",
        "  if lang == 'es':\n",
        "    print(\"Hola\")\n",
        "  elif lang == 'fr':\n",
        "    print(\"Bonjour\")\n",
        "  else:\n",
        "    print(\"Hello\")\n",
        "\n",
        "greet('en') #prints hello, else line\n",
        "greet('fr') #prints bonjour\n",
        "greet('es') #prints hola"
      ],
      "execution_count": 31,
      "outputs": [
        {
          "output_type": "stream",
          "name": "stdout",
          "text": [
            "Hello\n",
            "Bonjour\n",
            "Hola\n"
          ]
        }
      ]
    },
    {
      "cell_type": "code",
      "metadata": {
        "colab": {
          "base_uri": "https://localhost:8080/"
        },
        "id": "KuE69iKlHSX2",
        "outputId": "a3c1a398-b34b-4a2f-e9e8-7fc070ce3f6a"
      },
      "source": [
        "#Return Values\n",
        "def greet():\n",
        "  return \"Hello\"\n",
        "print(greet(), \"Lana\")\n",
        "print(greet(), 'Nicholas')\n",
        "#prints Hello Lana\n",
        "#       Hello Nicholas"
      ],
      "execution_count": 32,
      "outputs": [
        {
          "output_type": "stream",
          "name": "stdout",
          "text": [
            "Hello Lana\n",
            "Hello Nicholas\n"
          ]
        }
      ]
    },
    {
      "cell_type": "code",
      "metadata": {
        "colab": {
          "base_uri": "https://localhost:8080/"
        },
        "id": "xk6Wa5XZIZ8R",
        "outputId": "b1ee1faa-3ea1-48d0-bddb-953d7fb67a7d"
      },
      "source": [
        "#Return vulues\n",
        "#The return statement ends the function execution and \"sends back\" the result of the function\n",
        "def greet(lang):\n",
        "  if lang == 'es':\n",
        "    return 'Hola' # instead of print(\"Hola\")\n",
        "  elif lang == 'fr':\n",
        "    return 'Bonjour' #instead of print(\"Bonjour\")\n",
        "  else:\n",
        "    return 'Hello' #instead of print(\"Hello\")\n",
        "print(greet('en'), 'Glenn') #prints Hello Glenn\n",
        "print(greet('fr'), 'Lana') #prints Bonjour Lana\n",
        "print(greet('es'), 'Nicholas') #prints Hola Nicholas"
      ],
      "execution_count": 37,
      "outputs": [
        {
          "output_type": "stream",
          "name": "stdout",
          "text": [
            "Hello Glenn\n",
            "Bonjour Lana\n",
            "Hola Nicholas\n"
          ]
        }
      ]
    },
    {
      "cell_type": "code",
      "metadata": {
        "colab": {
          "base_uri": "https://localhost:8080/",
          "height": 357
        },
        "id": "1Ko-47gsJ6Ms",
        "outputId": "0cb7a695-c8ee-4e1a-d268-c9e558849f1d"
      },
      "source": [
        "#Arguments, Parameters and Results \n",
        "big = max('Hello world')\n",
        "print(big)\n",
        "def max(inp):\n",
        "  blah \n",
        "  blah\n",
        "  for x in inp:\n",
        "    blah \n",
        "    blah\n",
        "  return 'w'"
      ],
      "execution_count": 43,
      "outputs": [
        {
          "output_type": "error",
          "ename": "NameError",
          "evalue": "ignored",
          "traceback": [
            "\u001b[0;31m---------------------------------------------------------------------------\u001b[0m",
            "\u001b[0;31mNameError\u001b[0m                                 Traceback (most recent call last)",
            "\u001b[0;32m<ipython-input-43-2c42db7ef947>\u001b[0m in \u001b[0;36m<module>\u001b[0;34m()\u001b[0m\n\u001b[1;32m      1\u001b[0m \u001b[0;31m#Arguments, Parameters and Results\u001b[0m\u001b[0;34m\u001b[0m\u001b[0;34m\u001b[0m\u001b[0;34m\u001b[0m\u001b[0m\n\u001b[0;32m----> 2\u001b[0;31m \u001b[0mbig\u001b[0m \u001b[0;34m=\u001b[0m \u001b[0mmax\u001b[0m\u001b[0;34m(\u001b[0m\u001b[0;34m'Hello world'\u001b[0m\u001b[0;34m)\u001b[0m\u001b[0;34m\u001b[0m\u001b[0;34m\u001b[0m\u001b[0m\n\u001b[0m\u001b[1;32m      3\u001b[0m \u001b[0mprint\u001b[0m\u001b[0;34m(\u001b[0m\u001b[0mbig\u001b[0m\u001b[0;34m)\u001b[0m\u001b[0;34m\u001b[0m\u001b[0;34m\u001b[0m\u001b[0m\n\u001b[1;32m      4\u001b[0m \u001b[0;32mdef\u001b[0m \u001b[0mmax\u001b[0m\u001b[0;34m(\u001b[0m\u001b[0minp\u001b[0m\u001b[0;34m)\u001b[0m\u001b[0;34m:\u001b[0m\u001b[0;34m\u001b[0m\u001b[0;34m\u001b[0m\u001b[0m\n\u001b[1;32m      5\u001b[0m   \u001b[0mblah\u001b[0m\u001b[0;34m\u001b[0m\u001b[0;34m\u001b[0m\u001b[0m\n",
            "\u001b[0;32m<ipython-input-38-10364457d432>\u001b[0m in \u001b[0;36mmax\u001b[0;34m(inp)\u001b[0m\n\u001b[1;32m      3\u001b[0m \u001b[0mprint\u001b[0m\u001b[0;34m(\u001b[0m\u001b[0mbig\u001b[0m\u001b[0;34m)\u001b[0m\u001b[0;34m\u001b[0m\u001b[0;34m\u001b[0m\u001b[0m\n\u001b[1;32m      4\u001b[0m \u001b[0;32mdef\u001b[0m \u001b[0mmax\u001b[0m\u001b[0;34m(\u001b[0m\u001b[0minp\u001b[0m\u001b[0;34m)\u001b[0m\u001b[0;34m:\u001b[0m\u001b[0;34m\u001b[0m\u001b[0;34m\u001b[0m\u001b[0m\n\u001b[0;32m----> 5\u001b[0;31m   \u001b[0mblah\u001b[0m\u001b[0;34m\u001b[0m\u001b[0;34m\u001b[0m\u001b[0m\n\u001b[0m\u001b[1;32m      6\u001b[0m   \u001b[0mblah\u001b[0m\u001b[0;34m\u001b[0m\u001b[0;34m\u001b[0m\u001b[0m\n\u001b[1;32m      7\u001b[0m   \u001b[0;32mfor\u001b[0m \u001b[0mx\u001b[0m \u001b[0;32min\u001b[0m \u001b[0minp\u001b[0m\u001b[0;34m:\u001b[0m\u001b[0;34m\u001b[0m\u001b[0;34m\u001b[0m\u001b[0m\n",
            "\u001b[0;31mNameError\u001b[0m: name 'blah' is not defined"
          ]
        }
      ]
    },
    {
      "cell_type": "code",
      "metadata": {
        "colab": {
          "base_uri": "https://localhost:8080/"
        },
        "id": "2RxMeps7LJFx",
        "outputId": "93fdce39-ec98-489d-af34-ded173c86da0"
      },
      "source": [
        "#Multiple Parameters/ Arguments \n",
        "def addtwo(a,b):\n",
        "  added = a+b\n",
        "  return added\n",
        "x= addtwo(3,5)\n",
        "print(x) #prints 8"
      ],
      "execution_count": 44,
      "outputs": [
        {
          "output_type": "stream",
          "name": "stdout",
          "text": [
            "8\n"
          ]
        }
      ]
    },
    {
      "cell_type": "markdown",
      "metadata": {
        "id": "zKq5GspXL6ML"
      },
      "source": [
        "So some functions do not return values. We call them non-fruitful functions, and if they return values then we call them fruitful functions."
      ]
    }
  ]
}