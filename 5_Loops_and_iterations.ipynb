{
  "nbformat": 4,
  "nbformat_minor": 0,
  "metadata": {
    "colab": {
      "name": "5_Loops_and_iterations.ipynb",
      "provenance": [],
      "collapsed_sections": [],
      "authorship_tag": "ABX9TyN3paygW3i7kZRprDvqIbms",
      "include_colab_link": true
    },
    "kernelspec": {
      "name": "python3",
      "display_name": "Python 3"
    },
    "language_info": {
      "name": "python"
    }
  },
  "cells": [
    {
      "cell_type": "markdown",
      "metadata": {
        "id": "view-in-github",
        "colab_type": "text"
      },
      "source": [
        "<a href=\"https://colab.research.google.com/github/lanashin/PY4e_coursera/blob/main/5_Loops_and_iterations.ipynb\" target=\"_parent\"><img src=\"https://colab.research.google.com/assets/colab-badge.svg\" alt=\"Open In Colab\"/></a>"
      ]
    },
    {
      "cell_type": "markdown",
      "source": [
        "Loops(repeated steps) have iteration variables that change each time through a loop. Often these iteration variables go through a sequence of numbers."
      ],
      "metadata": {
        "id": "jH0Fe1AhgS6z"
      }
    },
    {
      "cell_type": "code",
      "execution_count": 3,
      "metadata": {
        "colab": {
          "base_uri": "https://localhost:8080/"
        },
        "id": "n32fIqaef9AU",
        "outputId": "43c7e8d7-7146-49e7-9af6-91131fafe812"
      },
      "outputs": [
        {
          "output_type": "stream",
          "name": "stdout",
          "text": [
            "5\n",
            "4\n",
            "3\n",
            "2\n",
            "1\n",
            "Blastoff!\n",
            "0\n"
          ]
        }
      ],
      "source": [
        "n=5\n",
        "while n >0:\n",
        "  print(n)\n",
        "  n=n-1\n",
        "print(\"Blastoff!\")\n",
        "print(n)"
      ]
    },
    {
      "cell_type": "markdown",
      "source": [
        "**Breaking out of the loop**"
      ],
      "metadata": {
        "id": "LtaMdHwdpDmL"
      }
    },
    {
      "cell_type": "code",
      "source": [
        "#What is wrong with this loop?\n",
        "# Answer: that it doesnt have a way to execute so its going forever\n",
        "# the way to fix it: use break statement - it ends the curent loop and jumps to statement outside of a loop\n",
        "n=5\n",
        "while n>0:\n",
        "  print(\"Lather\")\n",
        "  print(\"Rinse\")\n",
        "  break\n",
        "print(\"Dry off\")"
      ],
      "metadata": {
        "colab": {
          "base_uri": "https://localhost:8080/"
        },
        "id": "Y4s8vgeAm-sr",
        "outputId": "a4982942-7142-4fc9-af29-af786ec542ff"
      },
      "execution_count": 7,
      "outputs": [
        {
          "output_type": "stream",
          "name": "stdout",
          "text": [
            "Lather\n",
            "Rinse\n",
            "Dry off\n"
          ]
        }
      ]
    },
    {
      "cell_type": "code",
      "source": [
        "#what is wrong with this loop?\n",
        "#Answer: it doesnt enter the loop and prints dry off and nothing else\n",
        "n=0\n",
        "while n>0:\n",
        "  print(\"Lather\")\n",
        "  print(\"Rinse\")\n",
        "print(\"Dry off\")"
      ],
      "metadata": {
        "colab": {
          "base_uri": "https://localhost:8080/"
        },
        "id": "dKlrvfaQn_1u",
        "outputId": "848a5769-8323-4e19-cb05-c39e2881fc73"
      },
      "execution_count": 5,
      "outputs": [
        {
          "output_type": "stream",
          "name": "stdout",
          "text": [
            "Dry off\n"
          ]
        }
      ]
    },
    {
      "cell_type": "markdown",
      "source": [
        "**Finishing the Iteration with continue**"
      ],
      "metadata": {
        "id": "9hE7OeqNpMnh"
      }
    },
    {
      "cell_type": "code",
      "source": [
        "#the continue statement ends the current iteration and jumps to the top of the loop and starts the next iteration\n",
        "while True:\n",
        "   line = input (\">\")\n",
        "   if line[0] ==\"#\":\n",
        "     continue\n",
        "   if line ==\"done\":\n",
        "     break\n",
        "   print(line)\n",
        "print(\"Done!\")"
      ],
      "metadata": {
        "colab": {
          "base_uri": "https://localhost:8080/"
        },
        "id": "0MqxTGfDo4-I",
        "outputId": "3f7a5c58-5916-4a51-faf9-9566e95e7910"
      },
      "execution_count": 9,
      "outputs": [
        {
          "output_type": "stream",
          "name": "stdout",
          "text": [
            ">#dont\n",
            ">hello\n",
            "hello\n",
            ">hello\n",
            "hello\n",
            ">#dont\n",
            ">#hello\n",
            ">done\n",
            "Done!\n"
          ]
        }
      ]
    },
    {
      "cell_type": "markdown",
      "source": [
        "## Indefinite loops\n",
        "\n",
        "Idefinite loops called this way because they keep going until a logical condition becomes ***False***\n",
        "\n",
        "## Definite loops\n",
        "Definite loops called this way because they execute an exact number of times\n",
        "\n",
        "For construct"
      ],
      "metadata": {
        "id": "yEnQftPNuCsc"
      }
    },
    {
      "cell_type": "code",
      "source": [
        "for i in [5,4,3,2,1]:\n",
        "  print(i)\n",
        "print(\"Blastoff!\")"
      ],
      "metadata": {
        "colab": {
          "base_uri": "https://localhost:8080/"
        },
        "id": "IrB13lkrrrDh",
        "outputId": "21cd9a20-0af0-446c-d6df-bdc492923c5a"
      },
      "execution_count": 10,
      "outputs": [
        {
          "output_type": "stream",
          "name": "stdout",
          "text": [
            "5\n",
            "4\n",
            "3\n",
            "2\n",
            "1\n",
            "Blastoff!\n"
          ]
        }
      ]
    },
    {
      "cell_type": "code",
      "source": [
        "#a definite loop with strings\n",
        "#the \"iteration variable\" ==i, \"iterates\" through the sequence (ordered set)\n",
        "friends =['Joseph', 'Lana', 'Nicholas', 'Liza']\n",
        "for friend in friends:\n",
        "  print(\"Happy New Year:\", friend)\n",
        "print('Done!')"
      ],
      "metadata": {
        "colab": {
          "base_uri": "https://localhost:8080/"
        },
        "id": "KF2TCdztvghg",
        "outputId": "ef7e51ee-c735-4128-db65-bcccb0f5bdde"
      },
      "execution_count": 11,
      "outputs": [
        {
          "output_type": "stream",
          "name": "stdout",
          "text": [
            "Happy New Year: Joseph\n",
            "Happy New Year: Lana\n",
            "Happy New Year: Nicholas\n",
            "Happy New Year: Liza\n",
            "Done!\n"
          ]
        }
      ]
    },
    {
      "cell_type": "code",
      "source": [
        "#finding the largest value \n",
        "#Before -1\n",
        "#9 9\n",
        "#41 41\n",
        "#41 12\n",
        "#41 3\n",
        "#74 74\n",
        "#74 15\n",
        "#after 74\n",
        "lasrgest so far = -1\n",
        "print(\"Before\", largest_so_far)\n",
        "for the num in [9,41,12,3,74,15]:\n",
        "  if the num > largest_so_far:\n",
        "    largest_so_far = the num\n",
        "  print(largest_so_far = the num)\n",
        "\n",
        "print(\"After\", lasrgest_so_far)"
      ],
      "metadata": {
        "id": "j3of11M0zOg8"
      },
      "execution_count": null,
      "outputs": []
    },
    {
      "cell_type": "code",
      "source": [
        "#counting in a loop\n",
        "#Before 0\n",
        "# 1 9 \n",
        "# 2 41\n",
        "# 3 12\n",
        "# 4 3\n",
        "# 5 74\n",
        "# 6 15\n",
        "#After 6\n",
        "zork = 0\n",
        "print(\"Before\", zork)\n",
        "for thing in [9,41,12,3,74,15]:\n",
        "  zork = zork +1\n",
        "  print(zork, thing)\n",
        "print(\"After\", zork)"
      ],
      "metadata": {
        "id": "kCxUHRkKzShB"
      },
      "execution_count": null,
      "outputs": []
    },
    {
      "cell_type": "code",
      "source": [
        "#SUMMING A LOOP\n",
        "#Before 0\n",
        "# 9 9 \n",
        "# 50 41\n",
        "# 62 12\n",
        "# 65 3\n",
        "#139 74\n",
        "#154 15\n",
        "#after 154\n",
        "zork =0\n",
        "print(\"Before\", zork)\n",
        "for thing in [9, 41,12,3,74,15]:\n",
        "  zork = zork +thing\n",
        "  print(zork, thing)\n",
        "print(\"After\", zork)"
      ],
      "metadata": {
        "id": "baZS--MCzaXz"
      },
      "execution_count": null,
      "outputs": []
    },
    {
      "cell_type": "code",
      "source": [
        "#finding the average in a loop\n",
        "#Before 0 0 \n",
        "# 1 9 9 \n",
        "# 2 50 41\n",
        "# 3 62 12\n",
        "# 4 65 3\n",
        "# 5 139 74\n",
        "# 6 154 15\n",
        "# After 6 154 25.666\n",
        "#an average just combines the counting and sum patterns and devides when the loop is done\n",
        "count =0\n",
        "sum = 0\n",
        "print(\"Before\", count, sum)\n",
        "for value in [9,41,12,3,74,15]:\n",
        "  count = count +1\n",
        "  sum = sum + value\n",
        "  print(count, sum, value)\n",
        "print(\"After\", count, sum, sum/count)"
      ],
      "metadata": {
        "id": "yK7M9uSM0pGr"
      },
      "execution_count": null,
      "outputs": []
    },
    {
      "cell_type": "code",
      "source": [
        ""
      ],
      "metadata": {
        "id": "vLd2-b1r1QBW"
      },
      "execution_count": null,
      "outputs": []
    }
  ]
}