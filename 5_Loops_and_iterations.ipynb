{
  "nbformat": 4,
  "nbformat_minor": 0,
  "metadata": {
    "colab": {
      "name": "5_Loops_and_iterations.ipynb",
      "provenance": [],
      "collapsed_sections": [],
      "authorship_tag": "ABX9TyPF20A0Mz2hiew8cr0xIzf3",
      "include_colab_link": true
    },
    "kernelspec": {
      "name": "python3",
      "display_name": "Python 3"
    },
    "language_info": {
      "name": "python"
    }
  },
  "cells": [
    {
      "cell_type": "markdown",
      "metadata": {
        "id": "view-in-github",
        "colab_type": "text"
      },
      "source": [
        "<a href=\"https://colab.research.google.com/github/lanashin/PY4e_coursera/blob/main/5_Loops_and_iterations.ipynb\" target=\"_parent\"><img src=\"https://colab.research.google.com/assets/colab-badge.svg\" alt=\"Open In Colab\"/></a>"
      ]
    },
    {
      "cell_type": "markdown",
      "source": [
        "Loops(repeated steps) have iteration variables that change each time through a loop. Often these iteration variables go through a sequence of numbers."
      ],
      "metadata": {
        "id": "jH0Fe1AhgS6z"
      }
    },
    {
      "cell_type": "code",
      "execution_count": 1,
      "metadata": {
        "colab": {
          "base_uri": "https://localhost:8080/"
        },
        "id": "n32fIqaef9AU",
        "outputId": "ccdb17f1-9f2f-4f80-df59-12d7b622e69d"
      },
      "outputs": [
        {
          "output_type": "stream",
          "name": "stdout",
          "text": [
            "5\n",
            "4\n",
            "3\n",
            "2\n",
            "1\n",
            "Blastoff!\n",
            "0\n"
          ]
        }
      ],
      "source": [
        "n=5\n",
        "while n >0:\n",
        "  print(n)\n",
        "  n=n-1\n",
        "print(\"Blastoff!\")\n",
        "print(n)"
      ]
    },
    {
      "cell_type": "markdown",
      "source": [
        "**Breaking out of the loop**"
      ],
      "metadata": {
        "id": "LtaMdHwdpDmL"
      }
    },
    {
      "cell_type": "code",
      "source": [
        "#What is wrong with this loop?\n",
        "# Answer: that it doesnt have a way to execute so its going forever\n",
        "# the way to fix it: use break statement - it ends the curent loop and jumps to statement outside of a loop\n",
        "n=5\n",
        "while n>0:\n",
        "  print(\"Lather\")\n",
        "  print(\"Rinse\")\n",
        "  break\n",
        "print(\"Dry off\")"
      ],
      "metadata": {
        "colab": {
          "base_uri": "https://localhost:8080/"
        },
        "id": "Y4s8vgeAm-sr",
        "outputId": "c853df93-0145-4907-cbeb-53244e4ed660"
      },
      "execution_count": 2,
      "outputs": [
        {
          "output_type": "stream",
          "name": "stdout",
          "text": [
            "Lather\n",
            "Rinse\n",
            "Dry off\n"
          ]
        }
      ]
    },
    {
      "cell_type": "code",
      "source": [
        "#what is wrong with this loop?\n",
        "#Answer: it doesnt enter the loop and prints dry off and nothing else\n",
        "n=0\n",
        "while n>0:\n",
        "  print(\"Lather\")\n",
        "  print(\"Rinse\")\n",
        "print(\"Dry off\")"
      ],
      "metadata": {
        "colab": {
          "base_uri": "https://localhost:8080/"
        },
        "id": "dKlrvfaQn_1u",
        "outputId": "8597b9b5-812b-48a4-9a9d-28a968992915"
      },
      "execution_count": 3,
      "outputs": [
        {
          "output_type": "stream",
          "name": "stdout",
          "text": [
            "Dry off\n"
          ]
        }
      ]
    },
    {
      "cell_type": "markdown",
      "source": [
        "**Finishing the Iteration with continue**"
      ],
      "metadata": {
        "id": "9hE7OeqNpMnh"
      }
    },
    {
      "cell_type": "code",
      "source": [
        "#the continue statement ends the current iteration and jumps to the top of the loop and starts the next iteration\n",
        "while True:\n",
        "   line = input (\">\")\n",
        "   if line[0] ==\"#\":\n",
        "     continue\n",
        "   if line ==\"done\":\n",
        "     break\n",
        "   print(line)\n",
        "print(\"Done!\")"
      ],
      "metadata": {
        "colab": {
          "base_uri": "https://localhost:8080/"
        },
        "id": "0MqxTGfDo4-I",
        "outputId": "e73cfbda-d074-4d55-d9c8-ff0848239b43"
      },
      "execution_count": 4,
      "outputs": [
        {
          "output_type": "stream",
          "name": "stdout",
          "text": [
            ">hello\n",
            "hello\n",
            ">done\n",
            "Done!\n"
          ]
        }
      ]
    },
    {
      "cell_type": "markdown",
      "source": [
        "## Indefinite loops\n",
        "\n",
        "Idefinite loops called this way because they keep going until a logical condition becomes ***False***\n",
        "\n",
        "## Definite loops\n",
        "Definite loops called this way because they execute an exact number of times\n",
        "\n",
        "For construct"
      ],
      "metadata": {
        "id": "yEnQftPNuCsc"
      }
    },
    {
      "cell_type": "code",
      "source": [
        "for i in [5,4,3,2,1]:\n",
        "  print(i)\n",
        "print(\"Blastoff!\")"
      ],
      "metadata": {
        "colab": {
          "base_uri": "https://localhost:8080/"
        },
        "id": "IrB13lkrrrDh",
        "outputId": "21a93b0d-6ce0-4eba-d505-8493b5026d71"
      },
      "execution_count": 5,
      "outputs": [
        {
          "output_type": "stream",
          "name": "stdout",
          "text": [
            "5\n",
            "4\n",
            "3\n",
            "2\n",
            "1\n",
            "Blastoff!\n"
          ]
        }
      ]
    },
    {
      "cell_type": "code",
      "source": [
        "#a definite loop with strings\n",
        "#the \"iteration variable\" ==i, \"iterates\" through the sequence (ordered set)\n",
        "friends =['Joseph', 'Lana', 'Nicholas', 'Liza']\n",
        "for friend in friends:\n",
        "  print(\"Happy New Year:\", friend)\n",
        "print('Done!')"
      ],
      "metadata": {
        "colab": {
          "base_uri": "https://localhost:8080/"
        },
        "id": "KF2TCdztvghg",
        "outputId": "d6f1fed4-5623-4d90-dc2a-052c562ed378"
      },
      "execution_count": 6,
      "outputs": [
        {
          "output_type": "stream",
          "name": "stdout",
          "text": [
            "Happy New Year: Joseph\n",
            "Happy New Year: Lana\n",
            "Happy New Year: Nicholas\n",
            "Happy New Year: Liza\n",
            "Done!\n"
          ]
        }
      ]
    },
    {
      "cell_type": "code",
      "source": [
        "#finding the largest value \n",
        "#Before -1\n",
        "#9 9\n",
        "#41 41\n",
        "#41 12\n",
        "#41 3\n",
        "#74 74\n",
        "#74 15\n",
        "#after 74\n",
        "largest_so_far = -1\n",
        "print(\"Before\", largest_so_far)\n",
        "for the_num in [9,41,12,3,74,15]:\n",
        "  if the_num > largest_so_far:\n",
        "    largest_so_far = the_num\n",
        "  print(largest_so_far, the_num)\n",
        "\n",
        "print(\"After\", lasrgest_so_far)"
      ],
      "metadata": {
        "id": "j3of11M0zOg8",
        "outputId": "b0de596a-0ef6-4b96-aa2e-132ce0db4652",
        "colab": {
          "base_uri": "https://localhost:8080/"
        }
      },
      "execution_count": 11,
      "outputs": [
        {
          "output_type": "stream",
          "name": "stdout",
          "text": [
            "Before -1\n",
            "9 9\n",
            "41 41\n",
            "41 12\n",
            "41 3\n",
            "74 74\n",
            "74 15\n",
            "After -1\n"
          ]
        }
      ]
    },
    {
      "cell_type": "code",
      "source": [
        "#counting in a loop\n",
        "#Before 0\n",
        "# 1 9 \n",
        "# 2 41\n",
        "# 3 12\n",
        "# 4 3\n",
        "# 5 74\n",
        "# 6 15\n",
        "#After 6\n",
        "zork = 0\n",
        "print(\"Before\", zork)\n",
        "for thing in [9,41,12,3,74,15]:\n",
        "  zork = zork +1\n",
        "  print(zork, thing)\n",
        "print(\"After\", zork)"
      ],
      "metadata": {
        "id": "kCxUHRkKzShB",
        "outputId": "8f955b7e-26a9-4c06-9c8b-d2138be08aa3",
        "colab": {
          "base_uri": "https://localhost:8080/"
        }
      },
      "execution_count": 12,
      "outputs": [
        {
          "output_type": "stream",
          "name": "stdout",
          "text": [
            "Before 0\n",
            "1 9\n",
            "2 41\n",
            "3 12\n",
            "4 3\n",
            "5 74\n",
            "6 15\n",
            "After 6\n"
          ]
        }
      ]
    },
    {
      "cell_type": "code",
      "source": [
        "#SUMMING A LOOP\n",
        "#Before 0\n",
        "# 9 9 \n",
        "# 50 41\n",
        "# 62 12\n",
        "# 65 3\n",
        "#139 74\n",
        "#154 15\n",
        "#after 154\n",
        "zork =0\n",
        "print(\"Before\", zork)\n",
        "for thing in [9, 41,12,3,74,15]:\n",
        "  zork = zork +thing\n",
        "  print(zork, thing)\n",
        "print(\"After\", zork)"
      ],
      "metadata": {
        "id": "baZS--MCzaXz",
        "outputId": "ebda9343-ef7e-4d63-ffed-88b99dc1df25",
        "colab": {
          "base_uri": "https://localhost:8080/"
        }
      },
      "execution_count": 13,
      "outputs": [
        {
          "output_type": "stream",
          "name": "stdout",
          "text": [
            "Before 0\n",
            "9 9\n",
            "50 41\n",
            "62 12\n",
            "65 3\n",
            "139 74\n",
            "154 15\n",
            "After 154\n"
          ]
        }
      ]
    },
    {
      "cell_type": "code",
      "source": [
        "#finding the average in a loop\n",
        "#Before 0 0 \n",
        "# 1 9 9 \n",
        "# 2 50 41\n",
        "# 3 62 12\n",
        "# 4 65 3\n",
        "# 5 139 74\n",
        "# 6 154 15\n",
        "# After 6 154 25.666\n",
        "#an average just combines the counting and sum patterns and devides when the loop is done\n",
        "count =0\n",
        "sum = 0\n",
        "print(\"Before\", count, sum)\n",
        "for value in [9,41,12,3,74,15]:\n",
        "  count = count +1\n",
        "  sum = sum + value\n",
        "  print(count, sum, value)\n",
        "print(\"After\", count, sum, sum/count)"
      ],
      "metadata": {
        "id": "yK7M9uSM0pGr",
        "outputId": "be2cddf7-071e-474d-ff68-e2bbf6c4d101",
        "colab": {
          "base_uri": "https://localhost:8080/"
        }
      },
      "execution_count": 14,
      "outputs": [
        {
          "output_type": "stream",
          "name": "stdout",
          "text": [
            "Before 0 0\n",
            "1 9 9\n",
            "2 50 41\n",
            "3 62 12\n",
            "4 65 3\n",
            "5 139 74\n",
            "6 154 15\n",
            "After 6 154 25.666666666666668\n"
          ]
        }
      ]
    },
    {
      "cell_type": "code",
      "source": [
        "#filtereing in a loop\n",
        "#if statement in the loop is to catch/filter the values we are looking for\n",
        "print(\"Before\")\n",
        "for value in  [9,41,12,3,74,15]:\n",
        "  if value > 20:\n",
        "    print(\"Large number\", value)\n",
        "print(\"After\")"
      ],
      "metadata": {
        "id": "vLd2-b1r1QBW",
        "outputId": "0a25e529-cde8-4dc2-ad84-470c5c081b99",
        "colab": {
          "base_uri": "https://localhost:8080/"
        }
      },
      "execution_count": 15,
      "outputs": [
        {
          "output_type": "stream",
          "name": "stdout",
          "text": [
            "Before\n",
            "Large number 41\n",
            "Large number 74\n",
            "After\n"
          ]
        }
      ]
    },
    {
      "cell_type": "code",
      "source": [
        "#Search Using a boolean variable\n",
        "#if we just want to search and know that value was found, we use a variable that starts at FALSE and is set to TRUE  as soon as we find what we are looking for.\n",
        "found = False\n",
        "print(\"Before\", found)\n",
        "for value in  [9,41,12,3,74,15]:\n",
        "  if value == 3:\n",
        "    found = True\n",
        "  print(found, value)\n",
        "print(\"After\", found)\n"
      ],
      "metadata": {
        "id": "5I3810ko2ntU",
        "outputId": "9d6f060f-54ea-4bf5-971a-50720f31e786",
        "colab": {
          "base_uri": "https://localhost:8080/"
        }
      },
      "execution_count": 16,
      "outputs": [
        {
          "output_type": "stream",
          "name": "stdout",
          "text": [
            "Before False\n",
            "False 9\n",
            "False 41\n",
            "False 12\n",
            "True 3\n",
            "True 74\n",
            "True 15\n",
            "After True\n"
          ]
        }
      ]
    },
    {
      "cell_type": "code",
      "source": [
        "#finding the smallest value \n",
        "#we just switched the name\n",
        "#Before -1\n",
        "#-1 9\n",
        "#-1 41\n",
        "#-1 12\n",
        "#-1 3\n",
        "#-1 74\n",
        "#-1 15\n",
        "#after -1\n",
        "smallest_so_far = -1\n",
        "print(\"Before\", smallest_so_far)\n",
        "for the_num in [9,41,12,3,74,15]:\n",
        "  if the_num < smallest_so_far:\n",
        "    smallest_so_far = the_num\n",
        "  print(smallest_so_far, the_num)\n",
        "\n",
        "print(\"After\", smallest_so_far)"
      ],
      "metadata": {
        "id": "1zwoyIvA4ght",
        "outputId": "2a4f437c-49dd-4e6c-a132-a682ed5bb846",
        "colab": {
          "base_uri": "https://localhost:8080/"
        }
      },
      "execution_count": 20,
      "outputs": [
        {
          "output_type": "stream",
          "name": "stdout",
          "text": [
            "Before -1\n",
            "-1 9\n",
            "-1 41\n",
            "-1 12\n",
            "-1 3\n",
            "-1 74\n",
            "-1 15\n",
            "After -1\n"
          ]
        }
      ]
    },
    {
      "cell_type": "code",
      "source": [
        "#finding the smallest value \n",
        "#the first time through the loop smallest is None, so we take the first value to be smallest\n",
        "smallest = None\n",
        "print(\"Before\")\n",
        "for value in [9,41,12,3,74,15]:\n",
        "  if smallest is None:\n",
        "    smallest = value\n",
        "  elif value < smallest:\n",
        "    smallest = value\n",
        "  print(smallest, value)\n",
        "print(\"After\", smallest)"
      ],
      "metadata": {
        "id": "Ad9SFScT5bZ2",
        "outputId": "3c90e2fe-5098-4c4e-b315-296b6acf2a3d",
        "colab": {
          "base_uri": "https://localhost:8080/"
        }
      },
      "execution_count": 22,
      "outputs": [
        {
          "output_type": "stream",
          "name": "stdout",
          "text": [
            "Before\n",
            "9 9\n",
            "9 41\n",
            "9 12\n",
            "3 3\n",
            "3 74\n",
            "3 15\n",
            "After 3\n"
          ]
        }
      ]
    },
    {
      "cell_type": "markdown",
      "source": [
        "The is and is not Operators\n",
        "\n",
        "* Python has an \"IS\" operator that can be used in logical expressions \n",
        "\n",
        "* implies \"IS THE SAME AS\"\n",
        "\n",
        "* similar but stronger than ==\n",
        "\n",
        "* \"IS NOT\" is also a logical operator"
      ],
      "metadata": {
        "id": "Pko4WUBN6XqU"
      }
    }
  ]
}